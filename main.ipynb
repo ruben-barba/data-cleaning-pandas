{
 "cells": [
  {
   "cell_type": "markdown",
   "id": "d50686fd",
   "metadata": {},
   "source": [
    "## Librerias"
   ]
  },
  {
   "cell_type": "code",
   "execution_count": null,
   "id": "47db5592",
   "metadata": {},
   "outputs": [],
   "source": [
    "%load_ext autoreload\n",
    "%autoreload 2\n",
    "%reload_ext autoreload\n",
    "\n",
    "import pandas as pd\n",
    "import numpy as np\n",
    "from datetime import datetime,date\n",
    "from dateutil.relativedelta import relativedelta\n",
    "import time\n",
    "from tqdm import tqdm\n",
    "from dateutil.parser import parse\n",
    "import regex as re\n",
    "import src\n",
    "from IPython.display import Image\n"
   ]
  },
  {
   "cell_type": "markdown",
   "id": "6c4836f8",
   "metadata": {},
   "source": [
    "## Main"
   ]
  },
  {
   "cell_type": "markdown",
   "id": "4fa42897",
   "metadata": {},
   "source": [
    "### Primera limpieza"
   ]
  },
  {
   "cell_type": "code",
   "execution_count": null,
   "id": "64a12f20",
   "metadata": {},
   "outputs": [],
   "source": [
    "# Importar el archivo csv\n",
    "\n",
    "path = \"attacks.csv\"\n",
    "with open(path,encoding=\"utf8\",errors=\"ignore\") as f:\n",
    "    sharks = pd.read_csv(f)"
   ]
  },
  {
   "cell_type": "code",
   "execution_count": null,
   "id": "121ee3ff",
   "metadata": {},
   "outputs": [],
   "source": [
    "# Definir la funcion de limpieza general\n",
    "\n",
    "def first_clean():\n",
    "    # Quito filas que no aportan nada\n",
    "    sharks.dropna(how=\"all\",inplace=True)\n",
    "    # Quito las filas duplicadas y me quedo con la primera ocurrencia\n",
    "    sharks.drop_duplicates(keep=\"first\",inplace=True)\n",
    "    # Quitamos las columnas que tienen 100% nulos\n",
    "    sharks.drop([\"Unnamed: 22\",\"Unnamed: 23\"],axis=1,inplace=True)\n",
    "    # Borramos las columnas que no queremos analizar\n",
    "    sharks.drop([\"Location\",\"Investigator or Source\",\"pdf\",\"href formula\",'href','original order'],axis=1,inplace=True)\n",
    "    # Renombrar columnas\n",
    "    sharks.columns=['case', 'date', 'year', 'type', 'country','area','activity', 'name',\n",
    "       'sex', 'age', 'injury', 'fatal', 'time', 'species',\n",
    "       'case_1', 'case_2']\n",
    "    return"
   ]
  },
  {
   "cell_type": "code",
   "execution_count": null,
   "id": "03190d0f",
   "metadata": {},
   "outputs": [],
   "source": [
    "first_clean()"
   ]
  },
  {
   "cell_type": "code",
   "execution_count": null,
   "id": "09c6f296",
   "metadata": {},
   "outputs": [],
   "source": [
    "# Exportarlo como csv\n",
    "\n",
    "sharks.to_csv(\"sharks.csv\")"
   ]
  },
  {
   "cell_type": "markdown",
   "id": "68d7c402",
   "metadata": {},
   "source": [
    "### Segunda limpieza"
   ]
  },
  {
   "cell_type": "code",
   "execution_count": null,
   "id": "39ab67f5",
   "metadata": {},
   "outputs": [],
   "source": [
    "# Definir funcion de limpieza exhaustiva\n",
    "\n",
    "def main():\n",
    "    \n",
    "    print(\"EMPEZANDO LIMPIEZA\")\n",
    "    \n",
    "    # General\n",
    "    sharks.set_index(\"Unnamed: 0\",inplace=True)\n",
    "    # Date\n",
    "    src.date_clean(sharks,\"case\")\n",
    "    sharks.insert(3,\"year2\",src.new_year(sharks[\"case\"]))\n",
    "    src.year_clean(sharks,\"year\",\"year2\",\"date\")\n",
    "    sharks.drop(columns=[\"year\",\"case_1\",\"case_2\"],inplace=True)\n",
    "    sharks.rename(columns={\"year2\":\"year\"},inplace=True)\n",
    "    # Fatal\n",
    "    src.fatal_clean(sharks,\"fatal\")\n",
    "    src.fatal_catcher(sharks,\"fatal\",\"injury\")\n",
    "    # Country\n",
    "    src.country_clean(sharks,\"country\")\n",
    "    # Species\n",
    "    src.species_clean(sharks,\"species\")\n",
    "    # Sex\n",
    "    src.gender_clean(sharks,\"sex\")\n",
    "    src.gender_catcher(sharks,\"sex\",\"name\")\n",
    "    # Type\n",
    "    src.type_clean(sharks,\"type\")\n",
    "    # Age\n",
    "    src.age_clean(sharks,\"age\")\n",
    "    # General\n",
    "    sharks.drop_duplicates(keep=False,inplace=True)\n",
    "    \n",
    "    print(\"LIMPIEZA FINALIZADA\")\n",
    "    \n",
    "    return Image(\"baby_shark.jpg\", width=800, height=800)"
   ]
  },
  {
   "cell_type": "code",
   "execution_count": null,
   "id": "8d112ddb",
   "metadata": {},
   "outputs": [],
   "source": [
    "# Leer el archivo csv limpio, exportado antes\n",
    "\n",
    "sharks = pd.read_csv(\"sharks.csv\")"
   ]
  },
  {
   "cell_type": "code",
   "execution_count": null,
   "id": "cf1b0028",
   "metadata": {},
   "outputs": [],
   "source": [
    "main()"
   ]
  },
  {
   "cell_type": "code",
   "execution_count": null,
   "id": "fead5eb4",
   "metadata": {},
   "outputs": [],
   "source": [
    "# Exportar el csv despues de la limpieza exhaustiva\n",
    "\n",
    "sharks.to_csv(\"sharks_clean.csv\")"
   ]
  }
 ],
 "metadata": {
  "kernelspec": {
   "display_name": "Python 3 (ipykernel)",
   "language": "python",
   "name": "python3"
  },
  "language_info": {
   "codemirror_mode": {
    "name": "ipython",
    "version": 3
   },
   "file_extension": ".py",
   "mimetype": "text/x-python",
   "name": "python",
   "nbconvert_exporter": "python",
   "pygments_lexer": "ipython3",
   "version": "3.9.7"
  }
 },
 "nbformat": 4,
 "nbformat_minor": 5
}
