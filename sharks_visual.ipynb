{
 "cells": [
  {
   "cell_type": "code",
   "execution_count": null,
   "id": "4e4ce6d5",
   "metadata": {},
   "outputs": [],
   "source": [
    "import pandas as pd\n",
    "import numpy as np\n",
    "from datetime import datetime,date\n",
    "from dateutil.relativedelta import relativedelta\n",
    "import time\n",
    "from tqdm import tqdm\n",
    "from dateutil.parser import parse\n",
    "import regex as re\n",
    "from src import *\n",
    "import matplotlib.pyplot as plt\n",
    "import seaborn as sns"
   ]
  },
  {
   "cell_type": "code",
   "execution_count": null,
   "id": "6ed05c91",
   "metadata": {},
   "outputs": [],
   "source": [
    "sharks = pd.read_csv(\"sharks_clean.csv\").drop(columns=\"Unnamed: 0\")"
   ]
  },
  {
   "cell_type": "markdown",
   "id": "0dfd2de2",
   "metadata": {},
   "source": [
    "# Creando nuevas columnas "
   ]
  },
  {
   "cell_type": "markdown",
   "id": "90ad4501",
   "metadata": {},
   "source": [
    "### UBICACIONES"
   ]
  },
  {
   "cell_type": "code",
   "execution_count": null,
   "id": "acdcf550",
   "metadata": {},
   "outputs": [],
   "source": [
    "sharks = pd.read_csv(\"sharks_clean.csv\")"
   ]
  },
  {
   "cell_type": "code",
   "execution_count": null,
   "id": "7be44d47",
   "metadata": {},
   "outputs": [],
   "source": [
    "# Me creo un nuevo df para tratar solo las ubicaciones\n",
    "sharks_places = sharks.copy()"
   ]
  },
  {
   "cell_type": "code",
   "execution_count": null,
   "id": "8691d89f",
   "metadata": {},
   "outputs": [],
   "source": [
    "sharks_places[\"lat\"] = np.nan\n",
    "sharks_places[\"long\"] = np.nan\n",
    "sharks_places.drop(columns=\"Unnamed: 0\",inplace=True)"
   ]
  },
  {
   "cell_type": "code",
   "execution_count": null,
   "id": "6e7698dc",
   "metadata": {},
   "outputs": [],
   "source": [
    "# Leo un csv con todos los estados de USA y su latitud y longitud\n",
    "states = pd.read_csv(\"statelatlong.csv\")\n",
    "states"
   ]
  },
  {
   "cell_type": "code",
   "execution_count": null,
   "id": "4ce5cc16",
   "metadata": {},
   "outputs": [],
   "source": [
    "# Añado a mi dataframe de ubicaciones, la longitud y la latitud que le correpsonde al estado\n",
    "for i in sharks_places.index:\n",
    "    for j in states.index:\n",
    "        if str(sharks_places[\"area\"][i]).upper().strip() == states[\"City\"][j].upper():\n",
    "            sharks_places.loc[i,\"lat\"] = states[\"Latitude\"][j]\n",
    "            sharks_places.loc[i,\"long\"] = states[\"Longitude\"][j]"
   ]
  },
  {
   "cell_type": "code",
   "execution_count": null,
   "id": "418afa4e",
   "metadata": {},
   "outputs": [],
   "source": [
    "sharks_places[sharks_places[\"country\"]==\"USA\"].sort_values(\"area\",ascending=False)"
   ]
  },
  {
   "cell_type": "markdown",
   "id": "e3271168",
   "metadata": {},
   "source": [
    "# Exploracion de datos"
   ]
  },
  {
   "cell_type": "markdown",
   "id": "c291b477",
   "metadata": {},
   "source": [
    "### CANTIDAD DE ATAQUES TOTALES POR DECADA"
   ]
  },
  {
   "cell_type": "code",
   "execution_count": null,
   "id": "3dfb43e6",
   "metadata": {},
   "outputs": [],
   "source": [
    "# Contamos la cantidad de ataques totales, tanto letales como no\n",
    "#sharks_clean.fillna(\"Unknown\",inplace=True)\n",
    "attacks = sharks_places.groupby([\"fatal\"]).agg({\"fatal\":\"count\"})\n",
    "attacks = attacks.rename(columns={\"fatal\": \"count\"})\n",
    "attacks = attacks.sort_values(\"count\", ascending=False)\n",
    "attacks"
   ]
  },
  {
   "cell_type": "code",
   "execution_count": null,
   "id": "82db0b6b",
   "metadata": {},
   "outputs": [],
   "source": [
    "# Grafica de ataques fatales\n",
    "attacks.plot(title = \"Type of attacks by percentage\", kind = \"pie\", autopct='%1.1f%%', subplots=True, figsize = (15,5))\n",
    "plt.show()"
   ]
  },
  {
   "cell_type": "code",
   "execution_count": null,
   "id": "89671369",
   "metadata": {},
   "outputs": [],
   "source": [
    "# A partir de la columna year, creamos una columna categorica que indique la decada\n",
    "sharks_places[\"year\"].fillna(0,inplace=True)\n",
    "sharks_places[\"decade\"] = sharks_places.year.apply(lambda x: (str(x - (x%10)))[0:4]+\" \\' s\")"
   ]
  },
  {
   "cell_type": "code",
   "execution_count": null,
   "id": "533cbf72",
   "metadata": {},
   "outputs": [],
   "source": [
    "# Cruzamos la columna decada con la columna fatal\n",
    "decades = pd.crosstab(index=sharks_places.decade[sharks_places['year']>1900], columns=sharks_places[\"fatal\"])\n",
    "# Añadimos una columna con los ataques totales\n",
    "decades[\"TOTAL\"] = decades[\"N\"] + decades[\"Y\"]\n",
    "decades[\"%\"] = (decades[\"Y\"] / 5043)*100\n",
    "decades\n",
    "#decades[\"TOTAL\"]"
   ]
  },
  {
   "cell_type": "code",
   "execution_count": null,
   "id": "1fbef58a",
   "metadata": {},
   "outputs": [],
   "source": [
    "# Total de casos a partir de 1900\n",
    "decades[\"N\"].sum()+decades[\"Y\"].sum()"
   ]
  },
  {
   "cell_type": "code",
   "execution_count": null,
   "id": "6233dd72",
   "metadata": {},
   "outputs": [],
   "source": [
    "decades[[\"N\",\"Y\",\"TOTAL\"]].plot(title = \"Survival per decade\", figsize = (15,5), kind=\"line\")\n",
    "plt.show()"
   ]
  },
  {
   "cell_type": "code",
   "execution_count": null,
   "id": "dd6405ad",
   "metadata": {},
   "outputs": [],
   "source": [
    "decades[\"%\"].plot(title = \"Survival per decade\", figsize = (15,5), kind=\"line\")\n",
    "plt.show()"
   ]
  },
  {
   "cell_type": "markdown",
   "id": "43f250e9",
   "metadata": {},
   "source": [
    "### QUE ESPECIE ES LA MAS PELIGROSA"
   ]
  },
  {
   "cell_type": "code",
   "execution_count": null,
   "id": "a879686b",
   "metadata": {},
   "outputs": [],
   "source": [
    "species = pd.crosstab(index=sharks_places.species[sharks_places.species!=\"unknown\"], columns=[sharks_places[\"fatal\"]]).sort_values(\"N\",ascending=False)\n",
    "species[\"%\"] = ((species[\"Y\"]/species[\"N\"])*100).round(2)\n",
    "species_most = species[(species[\"N\"]+species[\"Y\"])>20].sort_values(\"%\",ascending=False)\n",
    "species_most"
   ]
  },
  {
   "cell_type": "code",
   "execution_count": null,
   "id": "834edda3",
   "metadata": {},
   "outputs": [],
   "source": [
    "species_most[\"%\"].plot(title = \"Fatality per shark specie\", kind = \"bar\", figsize = (15,4))\n",
    "plt.show()"
   ]
  },
  {
   "cell_type": "markdown",
   "id": "d8f25c72",
   "metadata": {},
   "source": [
    "### POR AREA"
   ]
  },
  {
   "cell_type": "code",
   "execution_count": null,
   "id": "323e26fa",
   "metadata": {},
   "outputs": [],
   "source": [
    "areas = pd.crosstab(index=sharks_places.species[sharks_places.species!=\"unknown\"], columns=sharks_places.area[sharks_places.country==\"USA\"])#.sort_values(\"N\",ascending=False)\n",
    "areas"
   ]
  },
  {
   "cell_type": "code",
   "execution_count": null,
   "id": "3cdfa2c6",
   "metadata": {},
   "outputs": [],
   "source": [
    "areas_df = pd.DataFrame(areas.sum().sort_values(ascending=False),columns=[\"Fatal cases\"])\n",
    "areas_df[areas_df[\"Fatal cases\"]>4]"
   ]
  },
  {
   "cell_type": "code",
   "execution_count": null,
   "id": "01f9321a",
   "metadata": {},
   "outputs": [],
   "source": [
    "# En cada estado, cual es el tiburon mas peligroso"
   ]
  },
  {
   "cell_type": "code",
   "execution_count": null,
   "id": "3fac5a4f",
   "metadata": {},
   "outputs": [],
   "source": [
    "dicc = {}\n",
    "for i in areas:\n",
    "    dicc[i] = areas[i].idxmax()\n",
    "\n",
    "df_dicc = pd.DataFrame(pd.Series(dicc),columns=[\"Shark type\"])\n",
    "sharks_per_state = pd.merge(areas_df, df_dicc, left_index = True, right_index = True, how=\"inner\")\n",
    "sharks_per_state[sharks_per_state[\"Fatal cases\"]>4]"
   ]
  },
  {
   "cell_type": "code",
   "execution_count": null,
   "id": "3a981e8e",
   "metadata": {},
   "outputs": [],
   "source": [
    "sharks_per_state[sharks_per_state[\"Fatal cases\"]>4].plot(title = \"Letality per decade\", figsize = (15,5), kind=\"bar\")\n",
    "plt.show()"
   ]
  },
  {
   "cell_type": "markdown",
   "id": "3c13f5d5",
   "metadata": {},
   "source": [
    "### QUE RANGO DE EDAD ES EL MAS VULNERABLE"
   ]
  },
  {
   "cell_type": "code",
   "execution_count": null,
   "id": "a861b61d",
   "metadata": {},
   "outputs": [],
   "source": [
    "sharks_places[\"decade_age\"] = sharks_places.age.apply(lambda x: (str(x - (x%10)))[0:2]+\" to \"+(str(x - (x%10)+10))[0:2])"
   ]
  },
  {
   "cell_type": "code",
   "execution_count": null,
   "id": "491c0700",
   "metadata": {},
   "outputs": [],
   "source": [
    "decades_age = pd.crosstab(index=sharks_places.decade_age, columns=sharks_places[\"fatal\"])\n",
    "decades_age = decades_age.sort_index().drop(\"na to na\")\n",
    "decades_age"
   ]
  },
  {
   "cell_type": "code",
   "execution_count": null,
   "id": "1fe54ef4",
   "metadata": {},
   "outputs": [],
   "source": [
    "decades_age.plot(title = \"Survival per age\", figsize = (15,5))\n",
    "plt.show()"
   ]
  }
 ],
 "metadata": {
  "kernelspec": {
   "display_name": "Python 3 (ipykernel)",
   "language": "python",
   "name": "python3"
  },
  "language_info": {
   "codemirror_mode": {
    "name": "ipython",
    "version": 3
   },
   "file_extension": ".py",
   "mimetype": "text/x-python",
   "name": "python",
   "nbconvert_exporter": "python",
   "pygments_lexer": "ipython3",
   "version": "3.9.7"
  }
 },
 "nbformat": 4,
 "nbformat_minor": 5
}
